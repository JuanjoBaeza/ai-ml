{
 "cells": [
  {
   "cell_type": "markdown",
   "metadata": {},
   "source": [
    "## Creating CNN Using Scratch And Transfer Learning"
   ]
  },
  {
   "cell_type": "markdown",
   "metadata": {},
   "source": [
    "Please download the dataset from the below url"
   ]
  },
  {
   "cell_type": "code",
   "execution_count": 1,
   "metadata": {},
   "outputs": [],
   "source": [
    "# import the libraries as shown below\n",
    "\n",
    "from tensorflow.keras.layers import Input, Lambda, Dense, Flatten,Conv2D\n",
    "from tensorflow.keras.models import Model\n",
    "from tensorflow.keras.applications.vgg19 import VGG19\n",
    "from tensorflow.keras.applications.resnet50 import preprocess_input\n",
    "from tensorflow.keras.preprocessing import image\n",
    "from tensorflow.keras.preprocessing.image import ImageDataGenerator,load_img\n",
    "from tensorflow.keras.models import Sequential\n",
    "import numpy as np\n",
    "from glob import glob\n",
    "import matplotlib.pyplot as plt"
   ]
  },
  {
   "cell_type": "code",
   "execution_count": 2,
   "metadata": {},
   "outputs": [],
   "source": [
    "# re-size all the images to this\n",
    "IMAGE_SIZE = [224, 224]\n",
    "\n",
    "train_path = 'cell_images/Train'\n",
    "valid_path = 'cell_images/Test'\n"
   ]
  },
  {
   "cell_type": "code",
   "execution_count": 3,
   "metadata": {},
   "outputs": [],
   "source": [
    "# Import the Vgg 16 library as shown below and add preprocessing layer to the front of VGG\n",
    "# Here we will be using imagenet weights\n",
    "\n",
    "mobilnet = VGG19(input_shape=IMAGE_SIZE + [3], weights='imagenet', include_top=False)\n",
    "\n",
    "\n"
   ]
  },
  {
   "cell_type": "code",
   "execution_count": 4,
   "metadata": {},
   "outputs": [],
   "source": [
    "# don't train existing weights\n",
    "for layer in mobilnet.layers:\n",
    "    layer.trainable = False"
   ]
  },
  {
   "cell_type": "code",
   "execution_count": 5,
   "metadata": {},
   "outputs": [],
   "source": [
    "  # useful for getting number of output classes\n",
    "folders = glob('Dataset/Train/*')"
   ]
  },
  {
   "cell_type": "code",
   "execution_count": 6,
   "metadata": {},
   "outputs": [
    {
     "data": {
      "text/plain": [
       "[]"
      ]
     },
     "execution_count": 6,
     "metadata": {},
     "output_type": "execute_result"
    }
   ],
   "source": [
    "folders"
   ]
  },
  {
   "cell_type": "code",
   "execution_count": 7,
   "metadata": {},
   "outputs": [],
   "source": [
    "# our layers - you can add more if you want\n",
    "x = Flatten()(mobilnet.output)"
   ]
  },
  {
   "cell_type": "code",
   "execution_count": 8,
   "metadata": {},
   "outputs": [],
   "source": [
    "prediction = Dense(len(folders), activation='softmax')(x)\n",
    "\n",
    "# create a model object\n",
    "model = Model(inputs=mobilnet.input, outputs=prediction)"
   ]
  },
  {
   "cell_type": "code",
   "execution_count": 9,
   "metadata": {},
   "outputs": [
    {
     "name": "stdout",
     "output_type": "stream",
     "text": [
      "Model: \"model\"\n",
      "_________________________________________________________________\n",
      " Layer (type)                Output Shape              Param #   \n",
      "=================================================================\n",
      " input_1 (InputLayer)        [(None, 224, 224, 3)]     0         \n",
      "                                                                 \n",
      " block1_conv1 (Conv2D)       (None, 224, 224, 64)      1792      \n",
      "                                                                 \n",
      " block1_conv2 (Conv2D)       (None, 224, 224, 64)      36928     \n",
      "                                                                 \n",
      " block1_pool (MaxPooling2D)  (None, 112, 112, 64)      0         \n",
      "                                                                 \n",
      " block2_conv1 (Conv2D)       (None, 112, 112, 128)     73856     \n",
      "                                                                 \n",
      " block2_conv2 (Conv2D)       (None, 112, 112, 128)     147584    \n",
      "                                                                 \n",
      " block2_pool (MaxPooling2D)  (None, 56, 56, 128)       0         \n",
      "                                                                 \n",
      " block3_conv1 (Conv2D)       (None, 56, 56, 256)       295168    \n",
      "                                                                 \n",
      " block3_conv2 (Conv2D)       (None, 56, 56, 256)       590080    \n",
      "                                                                 \n",
      " block3_conv3 (Conv2D)       (None, 56, 56, 256)       590080    \n",
      "                                                                 \n",
      " block3_conv4 (Conv2D)       (None, 56, 56, 256)       590080    \n",
      "                                                                 \n",
      " block3_pool (MaxPooling2D)  (None, 28, 28, 256)       0         \n",
      "                                                                 \n",
      " block4_conv1 (Conv2D)       (None, 28, 28, 512)       1180160   \n",
      "                                                                 \n",
      " block4_conv2 (Conv2D)       (None, 28, 28, 512)       2359808   \n",
      "                                                                 \n",
      " block4_conv3 (Conv2D)       (None, 28, 28, 512)       2359808   \n",
      "                                                                 \n",
      " block4_conv4 (Conv2D)       (None, 28, 28, 512)       2359808   \n",
      "                                                                 \n",
      " block4_pool (MaxPooling2D)  (None, 14, 14, 512)       0         \n",
      "                                                                 \n",
      " block5_conv1 (Conv2D)       (None, 14, 14, 512)       2359808   \n",
      "                                                                 \n",
      " block5_conv2 (Conv2D)       (None, 14, 14, 512)       2359808   \n",
      "                                                                 \n",
      " block5_conv3 (Conv2D)       (None, 14, 14, 512)       2359808   \n",
      "                                                                 \n",
      " block5_conv4 (Conv2D)       (None, 14, 14, 512)       2359808   \n",
      "                                                                 \n",
      " block5_pool (MaxPooling2D)  (None, 7, 7, 512)         0         \n",
      "                                                                 \n",
      " flatten (Flatten)           (None, 25088)             0         \n",
      "                                                                 \n",
      " dense (Dense)               (None, 0)                 0         \n",
      "                                                                 \n",
      "=================================================================\n",
      "Total params: 20,024,384\n",
      "Trainable params: 0\n",
      "Non-trainable params: 20,024,384\n",
      "_________________________________________________________________\n"
     ]
    }
   ],
   "source": [
    "\n",
    "# view the structure of the model\n",
    "model.summary()\n"
   ]
  },
  {
   "cell_type": "code",
   "execution_count": 10,
   "metadata": {},
   "outputs": [],
   "source": [
    "from tensorflow.keras.layers import MaxPooling2D"
   ]
  },
  {
   "cell_type": "code",
   "execution_count": 11,
   "metadata": {},
   "outputs": [
    {
     "name": "stdout",
     "output_type": "stream",
     "text": [
      "Model: \"sequential\"\n",
      "_________________________________________________________________\n",
      " Layer (type)                Output Shape              Param #   \n",
      "=================================================================\n",
      " conv2d (Conv2D)             (None, 224, 224, 16)      208       \n",
      "                                                                 \n",
      " max_pooling2d (MaxPooling2D  (None, 112, 112, 16)     0         \n",
      " )                                                               \n",
      "                                                                 \n",
      " conv2d_1 (Conv2D)           (None, 112, 112, 32)      2080      \n",
      "                                                                 \n",
      " max_pooling2d_1 (MaxPooling  (None, 56, 56, 32)       0         \n",
      " 2D)                                                             \n",
      "                                                                 \n",
      " conv2d_2 (Conv2D)           (None, 56, 56, 64)        8256      \n",
      "                                                                 \n",
      " max_pooling2d_2 (MaxPooling  (None, 28, 28, 64)       0         \n",
      " 2D)                                                             \n",
      "                                                                 \n",
      " flatten_1 (Flatten)         (None, 50176)             0         \n",
      "                                                                 \n",
      " dense_1 (Dense)             (None, 500)               25088500  \n",
      "                                                                 \n",
      " dense_2 (Dense)             (None, 2)                 1002      \n",
      "                                                                 \n",
      "=================================================================\n",
      "Total params: 25,100,046\n",
      "Trainable params: 25,100,046\n",
      "Non-trainable params: 0\n",
      "_________________________________________________________________\n"
     ]
    }
   ],
   "source": [
    "### Create Model from scratch using CNN\n",
    "model=Sequential()\n",
    "model.add(Conv2D(filters=16,kernel_size=2,padding=\"same\",activation=\"relu\",input_shape=(224,224,3)))\n",
    "model.add(MaxPooling2D(pool_size=2))\n",
    "model.add(Conv2D(filters=32,kernel_size=2,padding=\"same\",activation =\"relu\"))\n",
    "model.add(MaxPooling2D(pool_size=2))\n",
    "model.add(Conv2D(filters=64,kernel_size=2,padding=\"same\",activation=\"relu\"))\n",
    "model.add(MaxPooling2D(pool_size=2))\n",
    "model.add(Flatten())\n",
    "model.add(Dense(500,activation=\"relu\"))\n",
    "model.add(Dense(2,activation=\"softmax\"))\n",
    "model.summary()"
   ]
  },
  {
   "cell_type": "code",
   "execution_count": 12,
   "metadata": {},
   "outputs": [],
   "source": [
    "# tell the model what cost and optimization method to use\n",
    "model.compile(\n",
    "  loss='categorical_crossentropy',\n",
    "  optimizer='adam',\n",
    "  metrics=['accuracy']\n",
    ")\n"
   ]
  },
  {
   "cell_type": "code",
   "execution_count": 13,
   "metadata": {},
   "outputs": [],
   "source": [
    "# Use the Image Data Generator to import the images from the dataset\n",
    "from tensorflow.keras.preprocessing.image import ImageDataGenerator\n",
    "\n",
    "train_datagen = ImageDataGenerator(rescale = 1./255,\n",
    "                                   shear_range = 0.2,\n",
    "                                   zoom_range = 0.2,\n",
    "                                   horizontal_flip = True)\n",
    "\n",
    "test_datagen = ImageDataGenerator(rescale = 1./255)"
   ]
  },
  {
   "cell_type": "code",
   "execution_count": 15,
   "metadata": {},
   "outputs": [
    {
     "name": "stdout",
     "output_type": "stream",
     "text": [
      "Found 416 images belonging to 2 classes.\n"
     ]
    }
   ],
   "source": [
    "# Make sure you provide the same target size as initialied for the image size\n",
    "training_set = train_datagen.flow_from_directory('Dataset/Train',\n",
    "                                                 target_size = (224, 224),\n",
    "                                                 batch_size = 32,\n",
    "                                                 class_mode = 'categorical')"
   ]
  },
  {
   "cell_type": "code",
   "execution_count": 16,
   "metadata": {},
   "outputs": [
    {
     "data": {
      "text/plain": [
       "<keras.preprocessing.image.DirectoryIterator at 0x1a95f543490>"
      ]
     },
     "execution_count": 16,
     "metadata": {},
     "output_type": "execute_result"
    }
   ],
   "source": [
    "training_set"
   ]
  },
  {
   "cell_type": "code",
   "execution_count": 17,
   "metadata": {},
   "outputs": [
    {
     "name": "stdout",
     "output_type": "stream",
     "text": [
      "Found 134 images belonging to 2 classes.\n"
     ]
    }
   ],
   "source": [
    "test_set = test_datagen.flow_from_directory('Dataset/Test',\n",
    "                                            target_size = (224, 224),\n",
    "                                            batch_size = 32,\n",
    "                                            class_mode = 'categorical')"
   ]
  },
  {
   "cell_type": "code",
   "execution_count": 19,
   "metadata": {
    "scrolled": true
   },
   "outputs": [
    {
     "name": "stderr",
     "output_type": "stream",
     "text": [
      "C:\\Users\\Admin\\AppData\\Local\\Temp/ipykernel_13372/4102162479.py:3: UserWarning: `Model.fit_generator` is deprecated and will be removed in a future version. Please use `Model.fit`, which supports generators.\n",
      "  r = model.fit_generator(\n"
     ]
    },
    {
     "name": "stdout",
     "output_type": "stream",
     "text": [
      "Epoch 1/50\n",
      "13/13 [==============================] - 8s 620ms/step - loss: 1.9885 - accuracy: 0.5385 - val_loss: 0.6601 - val_accuracy: 0.6791\n",
      "Epoch 2/50\n",
      "13/13 [==============================] - 6s 470ms/step - loss: 0.6574 - accuracy: 0.6178 - val_loss: 0.8846 - val_accuracy: 0.3507\n",
      "Epoch 3/50\n",
      "13/13 [==============================] - 6s 480ms/step - loss: 0.5623 - accuracy: 0.7115 - val_loss: 0.8710 - val_accuracy: 0.3507\n",
      "Epoch 4/50\n",
      "13/13 [==============================] - 6s 468ms/step - loss: 0.4349 - accuracy: 0.7981 - val_loss: 0.9836 - val_accuracy: 0.3582\n",
      "Epoch 5/50\n",
      "13/13 [==============================] - 6s 467ms/step - loss: 0.4062 - accuracy: 0.8077 - val_loss: 0.7718 - val_accuracy: 0.4552\n",
      "Epoch 6/50\n",
      "13/13 [==============================] - 6s 465ms/step - loss: 0.3937 - accuracy: 0.8245 - val_loss: 0.7754 - val_accuracy: 0.5149\n",
      "Epoch 7/50\n",
      "13/13 [==============================] - 6s 448ms/step - loss: 0.3640 - accuracy: 0.8341 - val_loss: 0.8916 - val_accuracy: 0.4328\n",
      "Epoch 8/50\n",
      "13/13 [==============================] - 6s 454ms/step - loss: 0.3396 - accuracy: 0.8582 - val_loss: 0.6920 - val_accuracy: 0.5522\n",
      "Epoch 9/50\n",
      "13/13 [==============================] - 6s 455ms/step - loss: 0.3047 - accuracy: 0.8822 - val_loss: 0.7948 - val_accuracy: 0.5299\n",
      "Epoch 10/50\n",
      "13/13 [==============================] - 6s 455ms/step - loss: 0.2894 - accuracy: 0.8846 - val_loss: 0.4770 - val_accuracy: 0.7687\n",
      "Epoch 11/50\n",
      "13/13 [==============================] - 6s 453ms/step - loss: 0.2592 - accuracy: 0.9111 - val_loss: 0.5165 - val_accuracy: 0.7015\n",
      "Epoch 12/50\n",
      "13/13 [==============================] - 6s 450ms/step - loss: 0.2015 - accuracy: 0.9327 - val_loss: 0.4339 - val_accuracy: 0.7687\n",
      "Epoch 13/50\n",
      "13/13 [==============================] - 6s 443ms/step - loss: 0.1926 - accuracy: 0.9375 - val_loss: 0.5468 - val_accuracy: 0.7612\n",
      "Epoch 14/50\n",
      "13/13 [==============================] - 6s 439ms/step - loss: 0.1930 - accuracy: 0.9303 - val_loss: 0.3687 - val_accuracy: 0.8284\n",
      "Epoch 15/50\n",
      "13/13 [==============================] - 6s 447ms/step - loss: 0.1506 - accuracy: 0.9591 - val_loss: 0.3665 - val_accuracy: 0.8433\n",
      "Epoch 16/50\n",
      "13/13 [==============================] - 6s 441ms/step - loss: 0.1686 - accuracy: 0.9591 - val_loss: 0.3708 - val_accuracy: 0.8209\n",
      "Epoch 17/50\n",
      "13/13 [==============================] - 6s 454ms/step - loss: 0.1369 - accuracy: 0.9615 - val_loss: 0.5009 - val_accuracy: 0.7761\n",
      "Epoch 18/50\n",
      "13/13 [==============================] - 6s 486ms/step - loss: 0.1506 - accuracy: 0.9495 - val_loss: 0.5356 - val_accuracy: 0.7463\n",
      "Epoch 19/50\n",
      "13/13 [==============================] - 6s 471ms/step - loss: 0.1186 - accuracy: 0.9639 - val_loss: 0.9821 - val_accuracy: 0.6418\n",
      "Epoch 20/50\n",
      "13/13 [==============================] - 6s 468ms/step - loss: 0.1282 - accuracy: 0.9663 - val_loss: 0.3437 - val_accuracy: 0.8358\n",
      "Epoch 21/50\n",
      "13/13 [==============================] - 6s 473ms/step - loss: 0.1006 - accuracy: 0.9688 - val_loss: 0.3398 - val_accuracy: 0.8582\n",
      "Epoch 22/50\n",
      "13/13 [==============================] - 6s 483ms/step - loss: 0.0924 - accuracy: 0.9808 - val_loss: 0.6374 - val_accuracy: 0.7612\n",
      "Epoch 23/50\n",
      "13/13 [==============================] - 6s 464ms/step - loss: 0.1010 - accuracy: 0.9663 - val_loss: 0.3814 - val_accuracy: 0.8358\n",
      "Epoch 24/50\n",
      "13/13 [==============================] - 6s 469ms/step - loss: 0.1058 - accuracy: 0.9688 - val_loss: 0.3493 - val_accuracy: 0.8433\n",
      "Epoch 25/50\n",
      "13/13 [==============================] - 6s 476ms/step - loss: 0.1054 - accuracy: 0.9688 - val_loss: 0.2396 - val_accuracy: 0.8881\n",
      "Epoch 26/50\n",
      "13/13 [==============================] - 6s 473ms/step - loss: 0.0819 - accuracy: 0.9736 - val_loss: 0.4099 - val_accuracy: 0.8284\n",
      "Epoch 27/50\n",
      "13/13 [==============================] - 6s 471ms/step - loss: 0.1089 - accuracy: 0.9663 - val_loss: 0.8244 - val_accuracy: 0.7239\n",
      "Epoch 28/50\n",
      "13/13 [==============================] - 6s 472ms/step - loss: 0.1616 - accuracy: 0.9327 - val_loss: 0.3706 - val_accuracy: 0.8134\n",
      "Epoch 29/50\n",
      "13/13 [==============================] - 6s 462ms/step - loss: 0.1104 - accuracy: 0.9712 - val_loss: 0.6313 - val_accuracy: 0.7612\n",
      "Epoch 30/50\n",
      "13/13 [==============================] - 6s 459ms/step - loss: 0.1384 - accuracy: 0.9639 - val_loss: 0.3617 - val_accuracy: 0.8507\n",
      "Epoch 31/50\n",
      "13/13 [==============================] - 6s 461ms/step - loss: 0.0755 - accuracy: 0.9688 - val_loss: 0.2865 - val_accuracy: 0.8657\n",
      "Epoch 32/50\n",
      "13/13 [==============================] - 6s 459ms/step - loss: 0.0784 - accuracy: 0.9784 - val_loss: 0.2173 - val_accuracy: 0.8806\n",
      "Epoch 33/50\n",
      "13/13 [==============================] - 6s 462ms/step - loss: 0.0631 - accuracy: 0.9880 - val_loss: 0.4714 - val_accuracy: 0.8284\n",
      "Epoch 34/50\n",
      "13/13 [==============================] - 6s 460ms/step - loss: 0.0556 - accuracy: 0.9880 - val_loss: 0.1991 - val_accuracy: 0.9179\n",
      "Epoch 35/50\n",
      "13/13 [==============================] - 6s 463ms/step - loss: 0.0718 - accuracy: 0.9760 - val_loss: 0.1721 - val_accuracy: 0.9328\n",
      "Epoch 36/50\n",
      "13/13 [==============================] - 6s 462ms/step - loss: 0.0719 - accuracy: 0.9832 - val_loss: 0.3972 - val_accuracy: 0.8358\n",
      "Epoch 37/50\n",
      "13/13 [==============================] - 6s 460ms/step - loss: 0.0922 - accuracy: 0.9784 - val_loss: 0.3568 - val_accuracy: 0.8582\n",
      "Epoch 38/50\n",
      "13/13 [==============================] - 6s 460ms/step - loss: 0.0853 - accuracy: 0.9688 - val_loss: 0.5797 - val_accuracy: 0.8284\n",
      "Epoch 39/50\n",
      "13/13 [==============================] - 6s 458ms/step - loss: 0.0617 - accuracy: 0.9784 - val_loss: 0.3387 - val_accuracy: 0.8507\n",
      "Epoch 40/50\n",
      "13/13 [==============================] - 6s 459ms/step - loss: 0.0776 - accuracy: 0.9760 - val_loss: 0.3256 - val_accuracy: 0.8582\n",
      "Epoch 41/50\n",
      "13/13 [==============================] - 6s 470ms/step - loss: 0.0538 - accuracy: 0.9880 - val_loss: 0.3211 - val_accuracy: 0.8731\n",
      "Epoch 42/50\n",
      "13/13 [==============================] - 6s 465ms/step - loss: 0.0318 - accuracy: 0.9952 - val_loss: 0.2112 - val_accuracy: 0.9104\n",
      "Epoch 43/50\n",
      "13/13 [==============================] - 6s 443ms/step - loss: 0.0905 - accuracy: 0.9712 - val_loss: 0.3653 - val_accuracy: 0.8433\n",
      "Epoch 44/50\n",
      "13/13 [==============================] - 6s 446ms/step - loss: 0.1177 - accuracy: 0.9615 - val_loss: 0.2719 - val_accuracy: 0.8806\n",
      "Epoch 45/50\n",
      "13/13 [==============================] - 6s 446ms/step - loss: 0.0783 - accuracy: 0.9832 - val_loss: 0.2753 - val_accuracy: 0.9104\n",
      "Epoch 46/50\n",
      "13/13 [==============================] - 6s 444ms/step - loss: 0.0644 - accuracy: 0.9808 - val_loss: 0.2676 - val_accuracy: 0.9179\n",
      "Epoch 47/50\n",
      "13/13 [==============================] - 6s 451ms/step - loss: 0.0535 - accuracy: 0.9808 - val_loss: 0.2781 - val_accuracy: 0.8955\n",
      "Epoch 48/50\n",
      "13/13 [==============================] - 6s 446ms/step - loss: 0.0413 - accuracy: 0.9904 - val_loss: 0.4117 - val_accuracy: 0.8582\n",
      "Epoch 49/50\n",
      "13/13 [==============================] - 6s 470ms/step - loss: 0.1713 - accuracy: 0.9207 - val_loss: 0.3841 - val_accuracy: 0.7985\n",
      "Epoch 50/50\n",
      "13/13 [==============================] - 6s 471ms/step - loss: 0.1547 - accuracy: 0.9519 - val_loss: 0.3271 - val_accuracy: 0.8731\n"
     ]
    }
   ],
   "source": [
    "# fit the model\n",
    "# Run the cell. It will take some time to execute\n",
    "r = model.fit_generator(\n",
    "  training_set,\n",
    "  validation_data=test_set,\n",
    "  epochs=50,\n",
    "  steps_per_epoch=len(training_set),\n",
    "  validation_steps=len(test_set)\n",
    ")"
   ]
  },
  {
   "cell_type": "code",
   "execution_count": null,
   "metadata": {},
   "outputs": [],
   "source": []
  },
  {
   "cell_type": "code",
   "execution_count": 20,
   "metadata": {},
   "outputs": [
    {
     "data": {
      "image/png": "[encoded data removed]",
      "text/plain": [
       "<Figure size 432x288 with 1 Axes>"
      ]
     },
     "metadata": {
      "needs_background": "light"
     },
     "output_type": "display_data"
    },
    {
     "data": {
      "image/png": "[encoded data removed]",
      "text/plain": [
       "<Figure size 432x288 with 1 Axes>"
      ]
     },
     "metadata": {
      "needs_background": "light"
     },
     "output_type": "display_data"
    },
    {
     "data": {
      "text/plain": [
       "<Figure size 432x288 with 0 Axes>"
      ]
     },
     "metadata": {},
     "output_type": "display_data"
    }
   ],
   "source": [
    "# plot the loss\n",
    "plt.plot(r.history['loss'], label='train loss')\n",
    "plt.plot(r.history['val_loss'], label='val loss')\n",
    "plt.legend()\n",
    "plt.show()\n",
    "plt.savefig('LossVal_loss')\n",
    "\n",
    "# plot the accuracy\n",
    "plt.plot(r.history['accuracy'], label='train acc')\n",
    "plt.plot(r.history['val_accuracy'], label='val acc')\n",
    "plt.legend()\n",
    "plt.show()\n",
    "plt.savefig('AccVal_acc')"
   ]
  },
  {
   "cell_type": "code",
   "execution_count": 21,
   "metadata": {},
   "outputs": [],
   "source": [
    "# save it as a h5 file\n",
    "\n",
    "\n",
    "from tensorflow.keras.models import load_model\n",
    "\n",
    "model.save('model_vgg19.h5')"
   ]
  },
  {
   "cell_type": "code",
   "execution_count": null,
   "metadata": {},
   "outputs": [],
   "source": []
  },
  {
   "cell_type": "code",
   "execution_count": 22,
   "metadata": {},
   "outputs": [],
   "source": [
    "\n",
    "y_pred = model.predict(test_set)\n"
   ]
  },
  {
   "cell_type": "code",
   "execution_count": 23,
   "metadata": {},
   "outputs": [
    {
     "data": {
      "text/plain": [
       "array([[9.98373985e-01, 1.62599084e-03],\n",
       "       [9.99847174e-01, 1.52807232e-04],\n",
       "       [6.36614501e-01, 3.63385558e-01],\n",
       "       [9.97933149e-01, 2.06688908e-03],\n",
       "       [9.59403753e-01, 4.05963100e-02],\n",
       "       [9.99713361e-01, 2.86629365e-04],\n",
       "       [6.14091754e-02, 9.38590884e-01],\n",
       "       [6.59355968e-02, 9.34064388e-01],\n",
       "       [9.98179793e-01, 1.82027591e-03],\n",
       "       [9.95053768e-01, 4.94616199e-03],\n",
       "       [1.02204941e-01, 8.97795022e-01],\n",
       "       [3.07650328e-01, 6.92349672e-01],\n",
       "       [9.98871028e-01, 1.12889160e-03],\n",
       "       [9.89998162e-01, 1.00017786e-02],\n",
       "       [4.36549522e-02, 9.56345022e-01],\n",
       "       [9.57856238e-01, 4.21437658e-02],\n",
       "       [9.90992427e-01, 9.00764670e-03],\n",
       "       [9.95237589e-01, 4.76238132e-03],\n",
       "       [7.75595382e-02, 9.22440469e-01],\n",
       "       [5.06404564e-02, 9.49359477e-01],\n",
       "       [1.07783288e-01, 8.92216682e-01],\n",
       "       [3.56432274e-02, 9.64356780e-01],\n",
       "       [9.97946918e-01, 2.05308897e-03],\n",
       "       [9.99483228e-01, 5.16757951e-04],\n",
       "       [4.73793447e-02, 9.52620685e-01],\n",
       "       [1.00000000e+00, 3.52955247e-08],\n",
       "       [1.74168140e-01, 8.25831831e-01],\n",
       "       [1.41517222e-01, 8.58482778e-01],\n",
       "       [9.73934829e-01, 2.60651764e-02],\n",
       "       [9.81161475e-01, 1.88384689e-02],\n",
       "       [9.99999881e-01, 1.65272013e-07],\n",
       "       [7.28546157e-02, 9.27145362e-01],\n",
       "       [4.14959453e-02, 9.58504081e-01],\n",
       "       [1.10777810e-01, 8.89222145e-01],\n",
       "       [7.30948746e-02, 9.26905096e-01],\n",
       "       [9.99858618e-01, 1.41359982e-04],\n",
       "       [8.54632854e-01, 1.45367086e-01],\n",
       "       [9.98972178e-01, 1.02789502e-03],\n",
       "       [3.93307656e-01, 6.06692255e-01],\n",
       "       [1.13624565e-01, 8.86375487e-01],\n",
       "       [2.78809249e-01, 7.21190751e-01],\n",
       "       [8.42421353e-01, 1.57578632e-01],\n",
       "       [8.74854684e-01, 1.25145301e-01],\n",
       "       [9.99943972e-01, 5.59702567e-05],\n",
       "       [5.49723320e-02, 9.45027649e-01],\n",
       "       [5.83599806e-02, 9.41640079e-01],\n",
       "       [3.17429267e-02, 9.68257010e-01],\n",
       "       [9.99999642e-01, 3.02840448e-07],\n",
       "       [2.97085326e-02, 9.70291436e-01],\n",
       "       [5.49593531e-02, 9.45040643e-01],\n",
       "       [1.00000000e+00, 5.23326165e-08],\n",
       "       [4.13213819e-01, 5.86786211e-01],\n",
       "       [9.99044240e-01, 9.55721422e-04],\n",
       "       [1.65293843e-01, 8.34706128e-01],\n",
       "       [5.47044687e-02, 9.45295513e-01],\n",
       "       [9.99998689e-01, 1.25366807e-06],\n",
       "       [6.74902722e-02, 9.32509780e-01],\n",
       "       [9.00610507e-01, 9.93894264e-02],\n",
       "       [5.43469489e-02, 9.45653021e-01],\n",
       "       [9.97821093e-01, 2.17897585e-03],\n",
       "       [6.10075176e-01, 3.89924884e-01],\n",
       "       [9.99954700e-01, 4.52860513e-05],\n",
       "       [3.40798274e-02, 9.65920150e-01],\n",
       "       [9.74349201e-01, 2.56507918e-02],\n",
       "       [1.00000000e+00, 1.44918772e-13],\n",
       "       [9.99973416e-01, 2.65651215e-05],\n",
       "       [6.10145219e-02, 9.38985467e-01],\n",
       "       [6.72848225e-02, 9.32715178e-01],\n",
       "       [9.97924566e-01, 2.07545748e-03],\n",
       "       [1.63485914e-01, 8.36514115e-01],\n",
       "       [2.67421752e-01, 7.32578218e-01],\n",
       "       [9.15302157e-01, 8.46978053e-02],\n",
       "       [2.42599979e-01, 7.57399976e-01],\n",
       "       [3.55530381e-01, 6.44469559e-01],\n",
       "       [8.07163775e-01, 1.92836180e-01],\n",
       "       [4.18846935e-01, 5.81153095e-01],\n",
       "       [9.99985933e-01, 1.40864886e-05],\n",
       "       [7.20651224e-02, 9.27934825e-01],\n",
       "       [9.99975562e-01, 2.44227922e-05],\n",
       "       [7.24840015e-02, 9.27516043e-01],\n",
       "       [6.88824952e-01, 3.11175108e-01],\n",
       "       [3.71644855e-01, 6.28355145e-01],\n",
       "       [9.99899983e-01, 9.99499462e-05],\n",
       "       [9.82485175e-01, 1.75148174e-02],\n",
       "       [3.28524113e-02, 9.67147589e-01],\n",
       "       [9.77126658e-01, 2.28733104e-02],\n",
       "       [5.58962524e-01, 4.41037416e-01],\n",
       "       [9.99999881e-01, 1.52588598e-07],\n",
       "       [9.09256414e-02, 9.09074366e-01],\n",
       "       [9.41123664e-01, 5.88762946e-02],\n",
       "       [6.72881842e-01, 3.27118188e-01],\n",
       "       [1.97264060e-01, 8.02735925e-01],\n",
       "       [9.91430461e-01, 8.56957864e-03],\n",
       "       [1.85626879e-01, 8.14373195e-01],\n",
       "       [2.80776203e-01, 7.19223797e-01],\n",
       "       [8.17845583e-01, 1.82154372e-01],\n",
       "       [9.99994278e-01, 5.67040115e-06],\n",
       "       [1.07578389e-01, 8.92421603e-01],\n",
       "       [9.99603093e-01, 3.96919029e-04],\n",
       "       [9.97615337e-01, 2.38465122e-03],\n",
       "       [2.19139699e-02, 9.78086054e-01],\n",
       "       [4.74948436e-02, 9.52505112e-01],\n",
       "       [1.38814598e-01, 8.61185372e-01],\n",
       "       [3.04680727e-02, 9.69531894e-01],\n",
       "       [7.67095014e-02, 9.23290551e-01],\n",
       "       [1.00000000e+00, 2.86370428e-12],\n",
       "       [4.73868884e-02, 9.52613115e-01],\n",
       "       [9.99999523e-01, 4.73115961e-07],\n",
       "       [2.65010655e-01, 7.34989405e-01],\n",
       "       [7.99462557e-01, 2.00537413e-01],\n",
       "       [2.21656129e-01, 7.78343856e-01],\n",
       "       [9.98079896e-01, 1.92015117e-03],\n",
       "       [6.68594658e-01, 3.31405312e-01],\n",
       "       [9.99760449e-01, 2.39594112e-04],\n",
       "       [9.99834776e-01, 1.65143210e-04],\n",
       "       [9.65361238e-01, 3.46387699e-02],\n",
       "       [9.99426961e-01, 5.73013385e-04],\n",
       "       [9.98834312e-01, 1.16571435e-03],\n",
       "       [6.36915863e-02, 9.36308384e-01],\n",
       "       [1.46623209e-01, 8.53376806e-01],\n",
       "       [7.95202971e-01, 2.04797015e-01],\n",
       "       [9.98296082e-01, 1.70388352e-03],\n",
       "       [2.76320755e-01, 7.23679245e-01],\n",
       "       [9.84269261e-01, 1.57306921e-02],\n",
       "       [9.98983562e-01, 1.01642113e-03],\n",
       "       [9.99995470e-01, 4.47065850e-06],\n",
       "       [9.99997020e-01, 2.92720438e-06],\n",
       "       [9.98906732e-01, 1.09325803e-03],\n",
       "       [1.98251586e-02, 9.80174839e-01],\n",
       "       [9.99977946e-01, 2.20183410e-05],\n",
       "       [9.91756439e-01, 8.24353285e-03],\n",
       "       [4.20438766e-01, 5.79561174e-01],\n",
       "       [7.26439357e-02, 9.27356064e-01],\n",
       "       [6.20933712e-01, 3.79066318e-01]], dtype=float32)"
      ]
     },
     "execution_count": 23,
     "metadata": {},
     "output_type": "execute_result"
    }
   ],
   "source": [
    "y_pred"
   ]
  },
  {
   "cell_type": "code",
   "execution_count": 24,
   "metadata": {},
   "outputs": [],
   "source": [
    "import numpy as np\n",
    "y_pred = np.argmax(y_pred, axis=1)"
   ]
  },
  {
   "cell_type": "code",
   "execution_count": 25,
   "metadata": {},
   "outputs": [
    {
     "data": {
      "text/plain": [
       "array([0, 0, 0, 0, 0, 0, 1, 1, 0, 0, 1, 1, 0, 0, 1, 0, 0, 0, 1, 1, 1, 1,\n",
       "       0, 0, 1, 0, 1, 1, 0, 0, 0, 1, 1, 1, 1, 0, 0, 0, 1, 1, 1, 0, 0, 0,\n",
       "       1, 1, 1, 0, 1, 1, 0, 1, 0, 1, 1, 0, 1, 0, 1, 0, 0, 0, 1, 0, 0, 0,\n",
       "       1, 1, 0, 1, 1, 0, 1, 1, 0, 1, 0, 1, 0, 1, 0, 1, 0, 0, 1, 0, 0, 0,\n",
       "       1, 0, 0, 1, 0, 1, 1, 0, 0, 1, 0, 0, 1, 1, 1, 1, 1, 0, 1, 0, 1, 0,\n",
       "       1, 0, 0, 0, 0, 0, 0, 0, 1, 1, 0, 0, 1, 0, 0, 0, 0, 0, 1, 0, 0, 1,\n",
       "       1, 0], dtype=int64)"
      ]
     },
     "execution_count": 25,
     "metadata": {},
     "output_type": "execute_result"
    }
   ],
   "source": [
    "y_pred"
   ]
  },
  {
   "cell_type": "code",
   "execution_count": 26,
   "metadata": {},
   "outputs": [],
   "source": [
    "from tensorflow.keras.models import load_model\n",
    "from tensorflow.keras.preprocessing import image"
   ]
  },
  {
   "cell_type": "code",
   "execution_count": 27,
   "metadata": {},
   "outputs": [],
   "source": [
    "model=load_model('model_vgg19.h5')"
   ]
  },
  {
   "cell_type": "code",
   "execution_count": 28,
   "metadata": {},
   "outputs": [],
   "source": [
    "img=image.load_img('Dataset/Test/Uninfected/2.png',target_size=(224,224))\n",
    "\n"
   ]
  },
  {
   "cell_type": "code",
   "execution_count": 29,
   "metadata": {},
   "outputs": [
    {
     "data": {
      "text/plain": [
       "array([[[0., 0., 0.],\n",
       "        [0., 0., 0.],\n",
       "        [0., 0., 0.],\n",
       "        ...,\n",
       "        [0., 0., 0.],\n",
       "        [0., 0., 0.],\n",
       "        [0., 0., 0.]],\n",
       "\n",
       "       [[0., 0., 0.],\n",
       "        [0., 0., 0.],\n",
       "        [0., 0., 0.],\n",
       "        ...,\n",
       "        [0., 0., 0.],\n",
       "        [0., 0., 0.],\n",
       "        [0., 0., 0.]],\n",
       "\n",
       "       [[0., 0., 0.],\n",
       "        [0., 0., 0.],\n",
       "        [0., 0., 0.],\n",
       "        ...,\n",
       "        [0., 0., 0.],\n",
       "        [0., 0., 0.],\n",
       "        [0., 0., 0.]],\n",
       "\n",
       "       ...,\n",
       "\n",
       "       [[0., 0., 0.],\n",
       "        [0., 0., 0.],\n",
       "        [0., 0., 0.],\n",
       "        ...,\n",
       "        [0., 0., 0.],\n",
       "        [0., 0., 0.],\n",
       "        [0., 0., 0.]],\n",
       "\n",
       "       [[0., 0., 0.],\n",
       "        [0., 0., 0.],\n",
       "        [0., 0., 0.],\n",
       "        ...,\n",
       "        [0., 0., 0.],\n",
       "        [0., 0., 0.],\n",
       "        [0., 0., 0.]],\n",
       "\n",
       "       [[0., 0., 0.],\n",
       "        [0., 0., 0.],\n",
       "        [0., 0., 0.],\n",
       "        ...,\n",
       "        [0., 0., 0.],\n",
       "        [0., 0., 0.],\n",
       "        [0., 0., 0.]]], dtype=float32)"
      ]
     },
     "execution_count": 29,
     "metadata": {},
     "output_type": "execute_result"
    }
   ],
   "source": [
    "x=image.img_to_array(img)\n",
    "x"
   ]
  },
  {
   "cell_type": "code",
   "execution_count": 30,
   "metadata": {},
   "outputs": [
    {
     "data": {
      "text/plain": [
       "(224, 224, 3)"
      ]
     },
     "execution_count": 30,
     "metadata": {},
     "output_type": "execute_result"
    }
   ],
   "source": [
    "x.shape"
   ]
  },
  {
   "cell_type": "code",
   "execution_count": 31,
   "metadata": {},
   "outputs": [],
   "source": [
    "x=x/255"
   ]
  },
  {
   "cell_type": "code",
   "execution_count": 32,
   "metadata": {},
   "outputs": [
    {
     "data": {
      "text/plain": [
       "(1, 224, 224, 3)"
      ]
     },
     "execution_count": 32,
     "metadata": {},
     "output_type": "execute_result"
    }
   ],
   "source": [
    "x=np.expand_dims(x,axis=0)\n",
    "img_data=preprocess_input(x)\n",
    "img_data.shape"
   ]
  },
  {
   "cell_type": "code",
   "execution_count": 33,
   "metadata": {},
   "outputs": [
    {
     "data": {
      "text/plain": [
       "array([[1., 0.]], dtype=float32)"
      ]
     },
     "execution_count": 33,
     "metadata": {},
     "output_type": "execute_result"
    }
   ],
   "source": [
    "model.predict(img_data)"
   ]
  },
  {
   "cell_type": "code",
   "execution_count": 34,
   "metadata": {},
   "outputs": [],
   "source": [
    "a=np.argmax(model.predict(img_data), axis=1)"
   ]
  },
  {
   "cell_type": "code",
   "execution_count": 35,
   "metadata": {},
   "outputs": [
    {
     "name": "stdout",
     "output_type": "stream",
     "text": [
      "Infected\n"
     ]
    }
   ],
   "source": [
    "if(a==1):\n",
    "    print(\"Uninfected\")\n",
    "else:\n",
    "    print(\"Infected\")"
   ]
  }
 ],
 "metadata": {
  "kernelspec": {
   "display_name": "Python 3.8.6 64-bit",
   "language": "python",
   "name": "python3"
  },
  "language_info": {
   "codemirror_mode": {
    "name": "ipython",
    "version": 3
   },
   "file_extension": ".py",
   "mimetype": "text/x-python",
   "name": "python",
   "nbconvert_exporter": "python",
   "pygments_lexer": "ipython3",
   "version": "3.8.6"
  },
  "vscode": {
   "interpreter": {
    "hash": "a4868653bb6f8972e87e4c446ab8a445a15b25dedb8594cc74c480f8152ea86a"
   }
  }
 },
 "nbformat": 4,
 "nbformat_minor": 2
}
